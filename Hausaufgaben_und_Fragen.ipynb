{
  "nbformat": 4,
  "nbformat_minor": 0,
  "metadata": {
    "colab": {
      "name": "Fragen.ipynb",
      "provenance": [],
      "include_colab_link": true
    },
    "kernelspec": {
      "name": "python3",
      "display_name": "Python 3"
    },
    "language_info": {
      "name": "python"
    }
  },
  "cells": [
    {
      "cell_type": "markdown",
      "metadata": {
        "id": "view-in-github",
        "colab_type": "text"
      },
      "source": [
        "<a href=\"https://colab.research.google.com/github/janhspforzheim/pythoncourse/blob/main/Hausaufgaben_und_Fragen.ipynb\" target=\"_parent\"><img src=\"https://colab.research.google.com/assets/colab-badge.svg\" alt=\"Open In Colab\"/></a>"
      ]
    },
    {
      "cell_type": "markdown",
      "source": [
        "#Hausaufgaben"
      ],
      "metadata": {
        "id": "ti8rDv36ezjX"
      }
    },
    {
      "cell_type": "markdown",
      "source": [
        "**Anwendungen datengetriebener Analysen im Marketing**\n",
        "\n",
        "*   Kundensegmentierung für z.B. zielgerichtete Werbekampagnen \n",
        "*   Wie wird die Zielgruppe auf eine neue Produkteinführung reagieren? (Predictive Analytics - basierend auf vorhandenen Daten zum Kundenverhalten)\n",
        "*   Kohortenanalyse\n",
        "*   A/B-Test von Websiten, Anzeigen etc. (Analyse der Bounce Rate, CTR, Verweildauer...)\n",
        "*   Personalisierter Content  basierend auf Kundenverhalten auf der Website (angeschaute Inhalte, Warenkorb, Social Media Interaktionen...)\n",
        "*   Marketing Automation (Newsletter etc.)"
      ],
      "metadata": {
        "id": "iQNi4cNCe8Dm"
      }
    },
    {
      "cell_type": "markdown",
      "source": [
        "**Daten für die Analyse**\n",
        "\n",
        "*World Happiness Report*\n",
        "https://www.kaggle.com/datasets/mathurinache/world-happiness-report-20152021\n",
        "\n",
        "*Open Street Map*\n",
        "https://www.openstreetmap.org/#map=6/51.330/10.453\n",
        "\n",
        "*World Value Survey*\n",
        "https://www.worldvaluessurvey.org/WVSDocumentationWV7.jsp\n"
      ],
      "metadata": {
        "id": "-icxOmpFg-tB"
      }
    },
    {
      "cell_type": "markdown",
      "source": [
        "#Fragen"
      ],
      "metadata": {
        "id": "l3JXXTVwe4m2"
      }
    },
    {
      "cell_type": "markdown",
      "source": [
        "##Fragen zu 12_Basics"
      ],
      "metadata": {
        "id": "27VoKPmGsJAB"
      }
    },
    {
      "cell_type": "code",
      "execution_count": null,
      "metadata": {
        "colab": {
          "base_uri": "https://localhost:8080/"
        },
        "id": "Eqh6GqIqsF6R",
        "outputId": "7ffb3f7a-7b11-40b0-c0f4-8ebf03f161f2"
      },
      "outputs": [
        {
          "output_type": "stream",
          "name": "stdout",
          "text": [
            "2\n"
          ]
        }
      ],
      "source": [
        "a = [1,2,[7,2,8]]\n",
        "print(a[2][1]) #was bewirkt [2][1]?"
      ]
    },
    {
      "cell_type": "code",
      "source": [
        "l = []   # creates empty list\n",
        "for num in range(1,7):\n",
        "    al = []  # creates another empty list\n",
        "    for x in range(num):\n",
        "        al.append(x)  \n",
        "    l.append(al) #??\n",
        "        \n",
        "print(l        )"
      ],
      "metadata": {
        "colab": {
          "base_uri": "https://localhost:8080/"
        },
        "id": "37nlyecwsLiE",
        "outputId": "e110f2b6-df0f-4ba7-bbc0-5fc2ab888559"
      },
      "execution_count": null,
      "outputs": [
        {
          "output_type": "stream",
          "name": "stdout",
          "text": [
            "[[0], [0, 1], [0, 1, 2], [0, 1, 2, 3], [0, 1, 2, 3, 4], [0, 1, 2, 3, 4, 5]]\n"
          ]
        }
      ]
    },
    {
      "cell_type": "markdown",
      "source": [
        "##Fragen zu 13_Numpy"
      ],
      "metadata": {
        "id": "TGLELwHHTw7P"
      }
    },
    {
      "cell_type": "code",
      "source": [
        "a = np.array([1,2,3,4])\n",
        "b = np.array([10,20,30,40])\n",
        "c = a * b\n",
        "\n",
        "a = np.array([[0.0,0.0,0.0],[10.0,10.0,10.0],[20.0,20.0,20.0],[30.0,30.0,30.0]])\n",
        "b = np.array([1.0,2.0,3.0])\n",
        "b * 2\n",
        "\n",
        "a + b\n",
        "a + b.reshape((1, -1))\n",
        "a + np.concatenate([b.reshape((1, -1)),\n",
        "                    b.reshape((1, -1)),\n",
        "                    b.reshape((1, -1)),\n",
        "                    b.reshape((1, -1))])"
      ],
      "metadata": {
        "id": "7KcTZOLQUOy-"
      },
      "execution_count": null,
      "outputs": []
    },
    {
      "cell_type": "markdown",
      "source": [
        "##Fragen zu Pandas"
      ],
      "metadata": {
        "id": "IxbTP047WFGL"
      }
    },
    {
      "cell_type": "markdown",
      "source": [
        "cameras = pd.read_csv(\"../data/cameras.csv\") funktioniert nicht?"
      ],
      "metadata": {
        "id": "G3puONKjWIWn"
      }
    },
    {
      "cell_type": "markdown",
      "source": [
        "zu \"Subsetting Rows\": was macht mtcars[::-5]?"
      ],
      "metadata": {
        "id": "_8swGfOPXEBv"
      }
    },
    {
      "cell_type": "markdown",
      "source": [
        ""
      ],
      "metadata": {
        "id": "IfIYiLq-X1Rz"
      }
    }
  ]
}