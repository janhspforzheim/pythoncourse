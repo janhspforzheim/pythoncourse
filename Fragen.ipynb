{
  "nbformat": 4,
  "nbformat_minor": 0,
  "metadata": {
    "colab": {
      "name": "Fragen.ipynb",
      "provenance": [],
      "include_colab_link": true
    },
    "kernelspec": {
      "name": "python3",
      "display_name": "Python 3"
    },
    "language_info": {
      "name": "python"
    }
  },
  "cells": [
    {
      "cell_type": "markdown",
      "metadata": {
        "id": "view-in-github",
        "colab_type": "text"
      },
      "source": [
        "<a href=\"https://colab.research.google.com/github/janhspforzheim/pythoncourse/blob/main/Fragen.ipynb\" target=\"_parent\"><img src=\"https://colab.research.google.com/assets/colab-badge.svg\" alt=\"Open In Colab\"/></a>"
      ]
    },
    {
      "cell_type": "markdown",
      "source": [
        "#Hausaufgaben"
      ],
      "metadata": {
        "id": "ti8rDv36ezjX"
      }
    },
    {
      "cell_type": "markdown",
      "source": [
        "**Anwendungen datengetriebener Analysen im Marketing**\n",
        "\n",
        "*   Kundensegmentierung für z.B. zielgerichtete Werbekampagnen \n",
        "*   Wie wird die Zielgruppe auf eine neue Produkteinführung reagieren? (Predictive Analytics - basierend auf vorhandenen Daten zum Kundenverhalten)\n",
        "*   Kohortenanalyse\n",
        "*   A/B-Test von Websiten, Anzeigen etc. (Analyse der Bounce Rate, CTR, Verweildauer...)\n",
        "*   Personalisierter Content  basierend auf Kundenverhalten auf der Website (angeschaute Inhalte, Warenkorb, Social Media Interaktionen...)\n",
        "*   Marketing Automation (Newsletter etc.)"
      ],
      "metadata": {
        "id": "iQNi4cNCe8Dm"
      }
    },
    {
      "cell_type": "markdown",
      "source": [
        "**Daten für die Analyse**\n",
        "\n",
        "*World Happiness Report*\n",
        "https://www.kaggle.com/datasets/mathurinache/world-happiness-report-20152021\n",
        "\n",
        "*Open Street Map*\n",
        "https://www.openstreetmap.org/#map=6/51.330/10.453\n",
        "\n",
        "*World Value Survey*\n",
        "https://www.worldvaluessurvey.org/WVSDocumentationWV7.jsp\n"
      ],
      "metadata": {
        "id": "-icxOmpFg-tB"
      }
    },
    {
      "cell_type": "markdown",
      "source": [
        "#Fragen"
      ],
      "metadata": {
        "id": "l3JXXTVwe4m2"
      }
    },
    {
      "cell_type": "markdown",
      "source": [
        "##Fragen zu 12_Basics"
      ],
      "metadata": {
        "id": "27VoKPmGsJAB"
      }
    },
    {
      "cell_type": "code",
      "execution_count": null,
      "metadata": {
        "colab": {
          "base_uri": "https://localhost:8080/"
        },
        "id": "Eqh6GqIqsF6R",
        "outputId": "7ffb3f7a-7b11-40b0-c0f4-8ebf03f161f2"
      },
      "outputs": [
        {
          "output_type": "stream",
          "name": "stdout",
          "text": [
            "2\n"
          ]
        }
      ],
      "source": [
        "a = [1,2,[7,2,8]]\n",
        "print(a[2][1]) #was bewirkt [2][1]?"
      ]
    },
    {
      "cell_type": "code",
      "source": [
        "l = []   # creates empty list\n",
        "for num in range(1,7):\n",
        "    al = []  # creates another empty list\n",
        "    for x in range(num):\n",
        "        al.append(x)  \n",
        "    l.append(al) \n",
        "        \n",
        "print(l        )\n",
        "\n",
        "#warum startet es mit 0 und nicht 1? wegen Index?"
      ],
      "metadata": {
        "colab": {
          "base_uri": "https://localhost:8080/"
        },
        "id": "37nlyecwsLiE",
        "outputId": "e110f2b6-df0f-4ba7-bbc0-5fc2ab888559"
      },
      "execution_count": null,
      "outputs": [
        {
          "output_type": "stream",
          "name": "stdout",
          "text": [
            "[[0], [0, 1], [0, 1, 2], [0, 1, 2, 3], [0, 1, 2, 3, 4], [0, 1, 2, 3, 4, 5]]\n"
          ]
        }
      ]
    },
    {
      "cell_type": "markdown",
      "source": [
        "lambda function"
      ],
      "metadata": {
        "id": "wWntDPqO69P-"
      }
    },
    {
      "cell_type": "markdown",
      "source": [
        "##Fragen zu Übungen"
      ],
      "metadata": {
        "id": "QI3y5frX8rZl"
      }
    },
    {
      "cell_type": "code",
      "source": [
        "#Gibt es einen Grund weshalb \"items\" und nicht \"list\" in der Funktion steht?\n",
        "\n",
        "list = [6,3,7,9,23,4,54,-8]\n",
        "\n",
        "def multiply_list(items):\n",
        "    tot = 1\n",
        "    for x in items:\n",
        "        tot *= x\n",
        "    return tot\n",
        "print(multiply_list(list))\n"
      ],
      "metadata": {
        "id": "s62U2p-i8wJM"
      },
      "execution_count": null,
      "outputs": []
    },
    {
      "cell_type": "markdown",
      "source": [
        "##Fragen zu 13_Numpy"
      ],
      "metadata": {
        "id": "TGLELwHHTw7P"
      }
    },
    {
      "cell_type": "code",
      "source": [
        "a = np.array([1,2,3,4])\n",
        "b = np.array([10,20,30,40])\n",
        "c = a * b\n",
        "\n",
        "a = np.array([[0.0,0.0,0.0],[10.0,10.0,10.0],[20.0,20.0,20.0],[30.0,30.0,30.0]])\n",
        "b = np.array([1.0,2.0,3.0])\n",
        "b * 2\n",
        "\n",
        "a + b\n",
        "a + b.reshape((1, -1))\n",
        "a + np.concatenate([b.reshape((1, -1)),\n",
        "                    b.reshape((1, -1)),\n",
        "                    b.reshape((1, -1)),\n",
        "                    b.reshape((1, -1))])"
      ],
      "metadata": {
        "id": "7KcTZOLQUOy-"
      },
      "execution_count": null,
      "outputs": []
    },
    {
      "cell_type": "markdown",
      "source": [
        "Iterating generell nicht ganz verstanden "
      ],
      "metadata": {
        "id": "kqBpdzrW1Rd-"
      }
    },
    {
      "cell_type": "code",
      "source": [
        "a = np.arange(0,60,5).reshape(3,4)\n",
        "for x in a:\n",
        "    print(x,)\n",
        "\n",
        "for x in np.nditer(a): #was ist np.diter(a)?\n",
        "    print(x,)\n",
        "\n",
        "a = np.arange(0,60,5)\n",
        "a = a.reshape(3,4)\n",
        "b = a.copy(order = 'C').T\n",
        "for x in np.nditer(b):\n",
        "    print(x,)\n",
        "\n",
        "# leackage of abstraction"
      ],
      "metadata": {
        "id": "PVXdYxUU06Pi"
      },
      "execution_count": null,
      "outputs": []
    },
    {
      "cell_type": "markdown",
      "source": [
        "Array Manipulation???"
      ],
      "metadata": {
        "id": "e-Eq_FHq1hlP"
      }
    },
    {
      "cell_type": "markdown",
      "source": [
        "#Fragen zu 14_Pandas"
      ],
      "metadata": {
        "id": "IxbTP047WFGL"
      }
    },
    {
      "cell_type": "markdown",
      "source": [
        "Von welcher Quelle erhalten wir den Datensatz \"machine_learning_results.csv\" für die Übungen?"
      ],
      "metadata": {
        "id": "Jd4nd16xo5AU"
      }
    }
  ]
}